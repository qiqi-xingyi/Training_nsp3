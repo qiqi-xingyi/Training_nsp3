{
 "cells": [
  {
   "cell_type": "markdown",
   "id": "allied-clark",
   "metadata": {},
   "source": [
    "# Biolib hackaton challenge partition"
   ]
  },
  {
   "cell_type": "code",
   "execution_count": 2,
   "id": "controversial-wyoming",
   "metadata": {},
   "outputs": [],
   "source": [
    "import h5py\n",
    "import numpy as np\n",
    "import pandas as pd"
   ]
  },
  {
   "cell_type": "code",
   "execution_count": 2,
   "id": "greater-miniature",
   "metadata": {},
   "outputs": [],
   "source": "data = h5py.File(\"/home/eryk/development/NSPThesis/data/nsp3_client/training_data/TS115_ESM1b.npz\", 'r')"
  },
  {
   "cell_type": "code",
   "execution_count": 4,
   "id": "revised-prayer",
   "metadata": {},
   "outputs": [],
   "source": [
    "idx_encoding = np.arange(0, 20)\n",
    "idx_embed = np.arange(68, 1348)\n",
    "idx_mask = np.arange(50, 51)\n",
    "idx_ss = np.arange(57, 65)\n",
    "\n",
    "classes = np.concatenate([idx_encoding, idx_embed, idx_mask, idx_ss])"
   ]
  },
  {
   "cell_type": "code",
   "execution_count": 4,
   "id": "separated-anxiety",
   "metadata": {},
   "outputs": [],
   "source": [
    "p = sorted(np.random.permutation(len(data['dataset']))[:1000])"
   ]
  },
  {
   "cell_type": "code",
   "execution_count": 5,
   "id": "ancient-headset",
   "metadata": {},
   "outputs": [],
   "source": [
    "with h5py.File('/home/eryk/development/NSPThesis/data/chunked/Train_ESM1b.hdf5', 'w') as f:\n",
    "    d = f.create_dataset('dataset', (1000, 1632, 1309), chunks=True, compression=\"gzip\", compression_opts=9)\n",
    "\n",
    "    step=100\n",
    "    for i in range(0, 1000, step):\n",
    "        d[i:i+step] = np.nan_to_num(data['dataset'][p[i:i+step]][:, :, classes])"
   ]
  },
  {
   "cell_type": "code",
   "execution_count": 6,
   "id": "suspended-papua",
   "metadata": {},
   "outputs": [],
   "source": "data = h5py.File(\"../../data/nsp3_client/training_data/CASP12_HHblits_ESM1b.hdf5\", 'r')"
  },
  {
   "cell_type": "code",
   "execution_count": 7,
   "id": "successful-clearing",
   "metadata": {},
   "outputs": [],
   "source": [
    "with h5py.File('/home/eryk/development/NSPThesis/data/chunked/CASP12_ESM1b.hdf5', 'w') as f:\n",
    "    d = f.create_dataset('dataset', (21, 1494, 1309), chunks=True, compression=\"gzip\", compression_opts=9)\n",
    "\n",
    "    d[:] = np.nan_to_num(data['dataset'][:][:, :, classes])"
   ]
  },
  {
   "cell_type": "code",
   "execution_count": 8,
   "id": "proved-overview",
   "metadata": {},
   "outputs": [],
   "source": "np.savez_compressed(\"/home/eryk/development/NSPThesis/data/nsp3_client/training_data/TS115_ESM1b.npz\", dataset=data['dataset'][:][:, :, classes])"
  },
  {
   "cell_type": "code",
   "execution_count": 9,
   "id": "vocational-separation",
   "metadata": {},
   "outputs": [
    {
     "data": {
      "text/plain": [
       "<numpy.lib.npyio.NpzFile at 0x7fa318453df0>"
      ]
     },
     "execution_count": 9,
     "metadata": {},
     "output_type": "execute_result"
    }
   ],
   "source": "np.load(\"/home/eryk/development/NSPThesis/data/nsp3_client/training_data/TS115_ESM1b.npz\")"
  },
  {
   "cell_type": "code",
   "execution_count": 3,
   "id": "still-vatican",
   "metadata": {},
   "outputs": [],
   "source": "test = np.load(\"/home/eryk/development/NSPThesis/data/nsp3_client/training_data/CASP12_ESM1b.npz\")['data']"
  },
  {
   "cell_type": "code",
   "execution_count": 7,
   "id": "casual-bedroom",
   "metadata": {},
   "outputs": [],
   "source": [
    "# create predictions.csv\n",
    "Q8, Q3 = \"GHIBESTC\", \"HEC\"\n",
    "\n",
    "\n",
    "structure_mask = np.array([0, 0, 0, 1, 1, 2, 2, 2])\n",
    "\n",
    "q8 = np.array([Q8[int(val)] for val in np.argmax(test[:, :, 1301:1309], axis=2).flatten()])\n",
    "q3 = np.array([Q3[int(val)] for val in np.amax(test[:, :, 1301:1309] * structure_mask, axis=2).flatten()])\n",
    "\n",
    "mask = test[:, :, 1300].flatten().astype(int)\n",
    "\n",
    "q8 = q8[mask == 1]\n",
    "q3 = q3[mask == 1]\n",
    "\n",
    "lengths = np.array([sum(row) for row in test[:, :, 1300]])\n",
    "\n",
    "lengths = np.pad(lengths, (0, len(q8)-len(lengths)), mode='constant')\n",
    "\n",
    "df = np.concatenate([np.expand_dims(q8, axis=1), np.expand_dims(q3, axis=1), np.expand_dims(lengths, axis=1)], axis=1)\n",
    "\n",
    "# save to file\n",
    "df = pd.DataFrame(df)\n",
    "df = df.set_axis([\"q8\", \"q3\", \"lengths\"], axis=1, inplace=False)\n",
    "df.to_csv(\"predictions.csv\")"
   ]
  },
  {
   "cell_type": "code",
   "execution_count": 47,
   "id": "viral-surname",
   "metadata": {},
   "outputs": [],
   "source": "np.savez_compressed(\"/home/eryk/development/NSPThesis/data/nsp3_client/training_data/TS115_ESM1b_2.npz\", data=test[p])"
  },
  {
   "cell_type": "code",
   "execution_count": 44,
   "id": "assumed-bicycle",
   "metadata": {},
   "outputs": [
    {
     "data": {
      "text/plain": [
       "(21, 1494, 1309)"
      ]
     },
     "execution_count": 44,
     "metadata": {},
     "output_type": "execute_result"
    }
   ],
   "source": "np.load(\"/home/eryk/development/NSPThesis/data/nsp3_client/training_data/CASP12_ESM1b.npz\")['data'].shape"
  },
  {
   "cell_type": "code",
   "execution_count": null,
   "id": "arbitrary-clause",
   "metadata": {},
   "outputs": [],
   "source": []
  }
 ],
 "metadata": {
  "kernelspec": {
   "display_name": "nsp3",
   "language": "python",
   "name": "nsp3"
  },
  "language_info": {
   "codemirror_mode": {
    "name": "ipython",
    "version": 3
   },
   "file_extension": ".py",
   "mimetype": "text/x-python",
   "name": "python",
   "nbconvert_exporter": "python",
   "pygments_lexer": "ipython3",
   "version": "3.8.8"
  }
 },
 "nbformat": 4,
 "nbformat_minor": 5
}
